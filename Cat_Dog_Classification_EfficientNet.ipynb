{
  "nbformat": 4,
  "nbformat_minor": 0,
  "metadata": {
    "colab": {
      "name": "Cat_Dog_Classification_EfficientNet.ipynb",
      "provenance": []
    },
    "kernelspec": {
      "name": "python3",
      "display_name": "Python 3"
    },
    "language_info": {
      "name": "python"
    },
    "accelerator": "GPU",
    "gpuClass": "standard"
  },
  "cells": [
    {
      "cell_type": "code",
      "source": [
        "import tensorflow as tf\n",
        "\n",
        "from tensorflow.keras.models import Sequential\n",
        "from tensorflow.keras.layers import Dense, Dropout, Activation, Flatten, BatchNormalization\n",
        "from tensorflow.keras.layers import Conv2D, MaxPooling2D,GlobalAveragePooling2D\n",
        "from tensorflow.keras.callbacks import TensorBoard\n",
        "from tensorflow.keras.applications import EfficientNetB1"
      ],
      "metadata": {
        "id": "DzIprirngq5B"
      },
      "execution_count": 6,
      "outputs": []
    },
    {
      "cell_type": "code",
      "source": [
        "from google.colab import drive  \n",
        "drive.mount('/content/drive')"
      ],
      "metadata": {
        "colab": {
          "base_uri": "https://localhost:8080/"
        },
        "id": "NRZKL4O9qTEu",
        "outputId": "16865974-f5ac-4add-acb0-7db052aa7502"
      },
      "execution_count": 2,
      "outputs": [
        {
          "output_type": "stream",
          "name": "stdout",
          "text": [
            "Mounted at /content/drive\n"
          ]
        }
      ]
    },
    {
      "cell_type": "code",
      "source": [
        "path = '/content/drive/MyDrive/cats_and_dogs_filtered'"
      ],
      "metadata": {
        "id": "fV7Eue0EqZkZ"
      },
      "execution_count": 3,
      "outputs": []
    },
    {
      "cell_type": "code",
      "source": [
        "# Training folder path\n",
        "Train_path='/content/drive/MyDrive/cats_and_dogs_filtered/train' \n",
        "\n",
        "# Testing folder path\n",
        "Test_path='/content/drive/MyDrive/cats_and_dogs_filtered/validation' "
      ],
      "metadata": {
        "id": "6CR2DLA9rIQl"
      },
      "execution_count": 4,
      "outputs": []
    },
    {
      "cell_type": "code",
      "source": [
        "model = tf.keras.Sequential()#Sequential()\n",
        "model.add(Conv2D(32, (3, 3), input_shape = (64, 64, 3), activation = 'relu'))\n",
        "    #model.add(Conv2D(32, kernel_size = (3, 3), activation='relu', input_shape=(64, 64, 3))\n",
        "model.add(MaxPooling2D(pool_size=(2,2)))\n",
        "model.add(BatchNormalization())\n",
        "    \n",
        "model.add(Conv2D(64, kernel_size=(3,3), activation='relu'))\n",
        "model.add(MaxPooling2D(pool_size=(2,2)))\n",
        "model.add(BatchNormalization())\n",
        "    \n",
        "    \n",
        "model.add(Conv2D(96, kernel_size=(3,3), activation='relu'))\n",
        "model.add(MaxPooling2D(pool_size=(2,2)))\n",
        "model.add(BatchNormalization())\n",
        "    \n",
        "model.add(Conv2D(96, kernel_size=(3,3), activation='relu'))\n",
        "model.add(MaxPooling2D(pool_size=(2,2)))\n",
        "model.add(BatchNormalization())\n",
        "model.add(Dropout(0.2)) ## \n",
        "    \n",
        "#model.add(Conv2D(96, kernel_size=(3,3), activation='relu'))\n",
        "#model.add(MaxPooling2D(pool_size=(2,2)))\n",
        "#model.add(BatchNormalization())\n",
        "#model.add(Dropout(0.2))\n",
        "    \n",
        "model.add(Flatten())\n",
        "model.add(Dense(256, activation='relu'))\n",
        "model.add(Dropout(0.2))\n",
        "model.add(Dense(128, activation='relu'))\n",
        "model.add(Dropout(0.3)) ##\n",
        "model.add(Dense(2, activation = 'softmax'))"
      ],
      "metadata": {
        "id": "-Kc4UcJ5gdBc"
      },
      "execution_count": null,
      "outputs": []
    },
    {
      "cell_type": "code",
      "source": [
        "base_model = EfficientNetB1(weights=\"imagenet\", include_top=False, input_shape=(64,64,3))\n",
        "model= Sequential()\n",
        "model.add(base_model) \n",
        "model.add(Flatten()) \n",
        "model.add(Dense(1024,activation=('relu'),input_dim=512))\n",
        "model.add(Dense(512,activation=('relu'))) \n",
        "model.add(Dense(256,activation=('relu'))) \n",
        "#model.add(Dropout(.3))\n",
        "model.add(Dense(128,activation=('relu')))\n",
        "#model.add(Dropout(.2))\n",
        "model.add(Dense(2,activation=('softmax')))\n",
        "model.summary()"
      ],
      "metadata": {
        "colab": {
          "base_uri": "https://localhost:8080/"
        },
        "id": "K2c-zEsC17df",
        "outputId": "d5e9e323-dc1a-4243-db9f-65734332cb7e"
      },
      "execution_count": 18,
      "outputs": [
        {
          "output_type": "stream",
          "name": "stdout",
          "text": [
            "Model: \"sequential_1\"\n",
            "_________________________________________________________________\n",
            " Layer (type)                Output Shape              Param #   \n",
            "=================================================================\n",
            " efficientnetb1 (Functional)  (None, 2, 2, 1280)       6575239   \n",
            "                                                                 \n",
            " flatten_1 (Flatten)         (None, 5120)              0         \n",
            "                                                                 \n",
            " dense_4 (Dense)             (None, 1024)              5243904   \n",
            "                                                                 \n",
            " dense_5 (Dense)             (None, 512)               524800    \n",
            "                                                                 \n",
            " dense_6 (Dense)             (None, 256)               131328    \n",
            "                                                                 \n",
            " dense_7 (Dense)             (None, 128)               32896     \n",
            "                                                                 \n",
            " dense_8 (Dense)             (None, 10)                1290      \n",
            "                                                                 \n",
            "=================================================================\n",
            "Total params: 12,509,457\n",
            "Trainable params: 12,447,402\n",
            "Non-trainable params: 62,055\n",
            "_________________________________________________________________\n"
          ]
        }
      ]
    },
    {
      "cell_type": "code",
      "source": [
        "# Compiling the CNN\n",
        "model.compile(optimizer = 'adam', loss = 'binary_crossentropy', metrics = ['accuracy'])"
      ],
      "metadata": {
        "id": "LBzkRykMjj_o"
      },
      "execution_count": 19,
      "outputs": []
    },
    {
      "cell_type": "code",
      "source": [
        "# Part 2 - Fitting the CNN to the images\n",
        "\n",
        "from keras.preprocessing.image import ImageDataGenerator\n",
        "\n",
        "train_datagen = ImageDataGenerator(rescale = 1./255,\n",
        "                                   shear_range = 0.2,\n",
        "                                   zoom_range = 0.2,\n",
        "                                   horizontal_flip = True)\n",
        "test_datagen = ImageDataGenerator(rescale = 1./255)"
      ],
      "metadata": {
        "id": "cBvt5ShVhOEx"
      },
      "execution_count": 20,
      "outputs": []
    },
    {
      "cell_type": "code",
      "source": [
        "training_set = train_datagen.flow_from_directory('/content/drive/MyDrive/cats_and_dogs_filtered/train',\n",
        "                                                 target_size = (64, 64),\n",
        "                                                 batch_size = 32,\n",
        "                                                 class_mode = 'binary')\n"
      ],
      "metadata": {
        "colab": {
          "base_uri": "https://localhost:8080/"
        },
        "id": "lKjVrp40hXB9",
        "outputId": "e32e1cd8-d2c0-4191-e307-fb9c5f38072d"
      },
      "execution_count": 21,
      "outputs": [
        {
          "output_type": "stream",
          "name": "stdout",
          "text": [
            "Found 2000 images belonging to 2 classes.\n"
          ]
        }
      ]
    },
    {
      "cell_type": "code",
      "source": [
        "test_set = test_datagen.flow_from_directory('/content/drive/MyDrive/cats_and_dogs_filtered/validation',\n",
        "                                            target_size = (64, 64),\n",
        "                                            batch_size = 32,\n",
        "                                            class_mode = 'binary')"
      ],
      "metadata": {
        "colab": {
          "base_uri": "https://localhost:8080/"
        },
        "id": "QMLJy6gbiHRA",
        "outputId": "19c3d07b-f282-4c66-e3af-a013c183a079"
      },
      "execution_count": 22,
      "outputs": [
        {
          "output_type": "stream",
          "name": "stdout",
          "text": [
            "Found 1000 images belonging to 2 classes.\n"
          ]
        }
      ]
    },
    {
      "cell_type": "code",
      "source": [
        "model.compile(optimizer='adam',loss = tf.keras.losses.SparseCategoricalCrossentropy(from_logits=True), metrics=['accuracy'])"
      ],
      "metadata": {
        "id": "-k08kku-kzkB"
      },
      "execution_count": 23,
      "outputs": []
    },
    {
      "cell_type": "code",
      "source": [
        "history = model.fit(training_set, validation_data = test_set, batch_size = 32, epochs = 25, verbose = 1)"
      ],
      "metadata": {
        "colab": {
          "base_uri": "https://localhost:8080/"
        },
        "id": "gtO_eIV7j9ZB",
        "outputId": "b0b8c4f9-8dcb-4f44-ef88-50b8926e3cf8"
      },
      "execution_count": 24,
      "outputs": [
        {
          "output_type": "stream",
          "name": "stdout",
          "text": [
            "Epoch 1/25\n"
          ]
        },
        {
          "output_type": "stream",
          "name": "stderr",
          "text": [
            "/usr/local/lib/python3.7/dist-packages/tensorflow/python/util/dispatch.py:1082: UserWarning: \"`sparse_categorical_crossentropy` received `from_logits=True`, but the `output` argument was produced by a sigmoid or softmax activation and thus does not represent logits. Was this intended?\"\n",
            "  return dispatch_target(*args, **kwargs)\n"
          ]
        },
        {
          "output_type": "stream",
          "name": "stdout",
          "text": [
            "63/63 [==============================] - 29s 272ms/step - loss: 0.6656 - accuracy: 0.6650 - val_loss: 1.2181 - val_accuracy: 0.5000\n",
            "Epoch 2/25\n",
            "63/63 [==============================] - 17s 263ms/step - loss: 0.5147 - accuracy: 0.7735 - val_loss: 0.7006 - val_accuracy: 0.5000\n",
            "Epoch 3/25\n",
            "63/63 [==============================] - 15s 239ms/step - loss: 0.4267 - accuracy: 0.8165 - val_loss: 1.1105 - val_accuracy: 0.5000\n",
            "Epoch 4/25\n",
            "63/63 [==============================] - 15s 245ms/step - loss: 0.3792 - accuracy: 0.8510 - val_loss: 0.7029 - val_accuracy: 0.5020\n",
            "Epoch 5/25\n",
            "63/63 [==============================] - 15s 245ms/step - loss: 0.3336 - accuracy: 0.8590 - val_loss: 0.6966 - val_accuracy: 0.5000\n",
            "Epoch 6/25\n",
            "63/63 [==============================] - 15s 241ms/step - loss: 0.3022 - accuracy: 0.8800 - val_loss: 0.7072 - val_accuracy: 0.5000\n",
            "Epoch 7/25\n",
            "63/63 [==============================] - 15s 238ms/step - loss: 0.2859 - accuracy: 0.8865 - val_loss: 0.7790 - val_accuracy: 0.5000\n",
            "Epoch 8/25\n",
            "63/63 [==============================] - 15s 243ms/step - loss: 0.2347 - accuracy: 0.9070 - val_loss: 1.1014 - val_accuracy: 0.5000\n",
            "Epoch 9/25\n",
            "63/63 [==============================] - 15s 239ms/step - loss: 0.2493 - accuracy: 0.9095 - val_loss: 0.8461 - val_accuracy: 0.5000\n",
            "Epoch 10/25\n",
            "63/63 [==============================] - 15s 239ms/step - loss: 0.1762 - accuracy: 0.9280 - val_loss: 1.0627 - val_accuracy: 0.5000\n",
            "Epoch 11/25\n",
            "63/63 [==============================] - 15s 238ms/step - loss: 0.1978 - accuracy: 0.9255 - val_loss: 0.9797 - val_accuracy: 0.5000\n",
            "Epoch 12/25\n",
            "63/63 [==============================] - 15s 238ms/step - loss: 0.1772 - accuracy: 0.9385 - val_loss: 0.9957 - val_accuracy: 0.5000\n",
            "Epoch 13/25\n",
            "63/63 [==============================] - 15s 237ms/step - loss: 0.1286 - accuracy: 0.9570 - val_loss: 1.7279 - val_accuracy: 0.5000\n",
            "Epoch 14/25\n",
            "63/63 [==============================] - 15s 239ms/step - loss: 0.1555 - accuracy: 0.9435 - val_loss: 1.1184 - val_accuracy: 0.5000\n",
            "Epoch 15/25\n",
            "63/63 [==============================] - 15s 238ms/step - loss: 0.1499 - accuracy: 0.9485 - val_loss: 0.9682 - val_accuracy: 0.5000\n",
            "Epoch 16/25\n",
            "63/63 [==============================] - 15s 240ms/step - loss: 0.1233 - accuracy: 0.9475 - val_loss: 2.6267 - val_accuracy: 0.5000\n",
            "Epoch 17/25\n",
            "63/63 [==============================] - 15s 236ms/step - loss: 0.1123 - accuracy: 0.9620 - val_loss: 0.8035 - val_accuracy: 0.5000\n",
            "Epoch 18/25\n",
            "63/63 [==============================] - 15s 236ms/step - loss: 0.1315 - accuracy: 0.9475 - val_loss: 0.9913 - val_accuracy: 0.5720\n",
            "Epoch 19/25\n",
            "63/63 [==============================] - 15s 236ms/step - loss: 0.1022 - accuracy: 0.9640 - val_loss: 0.8095 - val_accuracy: 0.5260\n",
            "Epoch 20/25\n",
            "63/63 [==============================] - 16s 247ms/step - loss: 0.0921 - accuracy: 0.9655 - val_loss: 1.2934 - val_accuracy: 0.5000\n",
            "Epoch 21/25\n",
            "63/63 [==============================] - 15s 235ms/step - loss: 0.0970 - accuracy: 0.9635 - val_loss: 2.1190 - val_accuracy: 0.5110\n",
            "Epoch 22/25\n",
            "63/63 [==============================] - 15s 237ms/step - loss: 0.1122 - accuracy: 0.9655 - val_loss: 1.1457 - val_accuracy: 0.4890\n",
            "Epoch 23/25\n",
            "63/63 [==============================] - 15s 233ms/step - loss: 0.1182 - accuracy: 0.9610 - val_loss: 2.0624 - val_accuracy: 0.3830\n",
            "Epoch 24/25\n",
            "63/63 [==============================] - 15s 233ms/step - loss: 0.0740 - accuracy: 0.9715 - val_loss: 1.7502 - val_accuracy: 0.5000\n",
            "Epoch 25/25\n",
            "63/63 [==============================] - 15s 234ms/step - loss: 0.0975 - accuracy: 0.9675 - val_loss: 0.8905 - val_accuracy: 0.5020\n"
          ]
        }
      ]
    },
    {
      "cell_type": "code",
      "source": [
        "import matplotlib.pyplot as plt"
      ],
      "metadata": {
        "id": "jE6VwcMMuooj"
      },
      "execution_count": 25,
      "outputs": []
    },
    {
      "cell_type": "code",
      "source": [
        "# Plot accuracy and  loss\n",
        "acc = history.history['accuracy']\n",
        "val_acc = history.history['val_accuracy']\n",
        "\n",
        "loss = history.history['loss']\n",
        "val_loss = history.history['val_loss']\n",
        "\n",
        "epochs_range = range(len(history.history['accuracy']))\n",
        "\n",
        "plt.figure(figsize=(18, 6))\n",
        "plt.subplot(1, 2, 1)\n",
        "plt.plot(range(len(history.history['accuracy'])), acc, label='Training Accuracy')\n",
        "plt.plot(epochs_range, val_acc, label='Validation Accuracy')\n",
        "plt.legend(loc='upper right')\n",
        "plt.title('Training and Validation Accuracy')\n",
        "\n",
        "plt.subplot(1, 2, 2)\n",
        "plt.plot(epochs_range, loss, label='Training Loss')\n",
        "plt.plot(epochs_range, val_loss, label='Validation Loss')\n",
        "plt.legend(loc='upper right')\n",
        "plt.title('Training and Validation Loss')\n",
        "plt.show()"
      ],
      "metadata": {
        "colab": {
          "base_uri": "https://localhost:8080/",
          "height": 390
        },
        "id": "8iOqgJWFudRl",
        "outputId": "0f4f0478-9200-4845-a32a-ff72ec31fdd1"
      },
      "execution_count": 26,
      "outputs": [
        {
          "output_type": "display_data",
          "data": {
            "text/plain": [
              "<Figure size 1296x432 with 2 Axes>"
            ],
            "image/png": "[encoded data removed]"
          },
          "metadata": {
            "needs_background": "light"
          }
        }
      ]
    },
    {
      "cell_type": "code",
      "source": [
        "from tensorflow.keras.models import load_model\n",
        "model.save('model_effi_net.h5')"
      ],
      "metadata": {
        "id": "csH686QJwPkD"
      },
      "execution_count": 31,
      "outputs": []
    },
    {
      "cell_type": "code",
      "source": [
        " import numpy as np"
      ],
      "metadata": {
        "id": "hgWAn_I4vUXW"
      },
      "execution_count": 33,
      "outputs": []
    },
    {
      "cell_type": "code",
      "source": [
        "from tensorflow.keras.models import load_model\n",
        "from tensorflow.keras.preprocessing import image"
      ],
      "metadata": {
        "id": "eKsXlY5SwWur"
      },
      "execution_count": 34,
      "outputs": []
    },
    {
      "cell_type": "code",
      "source": [
        "model=load_model('model_effi_net.h5')"
      ],
      "metadata": {
        "id": "ZbosJl6jwbDu"
      },
      "execution_count": 36,
      "outputs": []
    },
    {
      "cell_type": "code",
      "source": [
        "class_dict = {0: \"dog\", 1: \"cat\"}\n",
        "test_img=image.load_img('/content/drive/MyDrive/cats_and_dogs_filtered/validation/dogs/dog.2023.jpg',target_size=(64,64))\n",
        "\n",
        "plt.imshow(test_img)\n",
        "\n",
        "plt.grid(False)\n",
        "\n",
        "test_img1 = np.expand_dims(test_img, axis=0)\n",
        "\n",
        "pred = model.predict(test_img1)\n",
        "pred = np.argmax(pred)\n",
        "pred_class =class_dict[pred]\n",
        "print(pred_class)"
      ],
      "metadata": {
        "colab": {
          "base_uri": "https://localhost:8080/",
          "height": 286
        },
        "id": "MQPaE3lOxf-_",
        "outputId": "7cf66d43-2b6e-4188-9c32-77fbce680f13"
      },
      "execution_count": 41,
      "outputs": [
        {
          "output_type": "stream",
          "name": "stdout",
          "text": [
            "dog\n"
          ]
        },
        {
          "output_type": "display_data",
          "data": {
            "text/plain": [
              "<Figure size 432x288 with 1 Axes>"
            ],
            "image/png": "[encoded data removed]"
          },
          "metadata": {
            "needs_background": "light"
          }
        }
      ]
    }
  ]
}